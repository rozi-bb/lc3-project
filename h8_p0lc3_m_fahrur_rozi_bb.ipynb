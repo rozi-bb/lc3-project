{
  "cells": [
    {
      "cell_type": "markdown",
      "metadata": {
        "id": "JSTOpJw87bhT"
      },
      "source": [
        "# Live Code 3\n",
        "\n",
        "## Muhammad Fahrur Rozi Butar-Butar\n",
        "## FTDS-016"
      ]
    },
    {
      "cell_type": "markdown",
      "metadata": {
        "id": "rJj9sZ8f7bhU"
      },
      "source": [
        "## Description\n",
        "\n",
        "### Objective\n",
        "\n",
        "1. Tampilkan tabel crime sampai 5 baris pertama\n",
        "2. Apa saja jenis tindak kejahatan yang terjadi di kota Austin selama tahun 2016?\n",
        "3. Berapa banyak kasus tindak kejahatan berdasarkan kasus pembersihannya (clearance status) selama tahun 2016?\n",
        "4. Jenis kejahatan apa saja yang paling banyak belum terselesaikan kasusnya di tahun 2016?\n",
        "5. Di bulan apa di tahun 2016 kasus pencurian (theft) sangat banyak terjadi?\n",
        "6. Di distrik apa yang paling banyak terjadi kasus pencurian selama 2016?\n",
        "7. Berapa lama rata-rata waktu (dalam hari) kasus tindak kejahatan 'theft' terselesaikan sejak kasus tersebut terangkat selama tahun 2016? (`Hint: Hitung selisih hari dari timestamp hingga clearance date`)\n",
        "\n",
        "### Problem Statement\n",
        "\n",
        "Definisikan problem statement berdasarkan penjabaran masalah di atas"
      ]
    },
    {
      "cell_type": "markdown",
      "source": [
        "### Import libray yang dibutuhkan"
      ],
      "metadata": {
        "id": "J4fq0v6gIDIz"
      }
    },
    {
      "cell_type": "code",
      "execution_count": 48,
      "metadata": {
        "id": "N3NKbfJ_7bhV"
      },
      "outputs": [],
      "source": [
        "import pandas as pd"
      ]
    },
    {
      "cell_type": "markdown",
      "source": [
        "### Menghubungkan Google Collab dengan Bigquerry"
      ],
      "metadata": {
        "id": "1JcnRqSrIKvi"
      }
    },
    {
      "cell_type": "code",
      "source": [
        "from google.colab import auth\n",
        "auth.authenticate_user()\n",
        "print('Authenticated')"
      ],
      "metadata": {
        "colab": {
          "base_uri": "https://localhost:8080/"
        },
        "id": "l8mtTXqbISTy",
        "outputId": "d012da3c-fa7a-4c9b-8fcc-607ac24fb5c5"
      },
      "execution_count": 35,
      "outputs": [
        {
          "output_type": "stream",
          "name": "stdout",
          "text": [
            "Authenticated\n"
          ]
        }
      ]
    },
    {
      "cell_type": "code",
      "execution_count": 36,
      "metadata": {
        "id": "lYX0PNpx7bhX"
      },
      "outputs": [],
      "source": [
        "from google.cloud import bigquery"
      ]
    },
    {
      "cell_type": "code",
      "execution_count": 37,
      "metadata": {
        "id": "_H6Pz1E07bhY"
      },
      "outputs": [],
      "source": [
        "project_id = \"emerald-surface-363009\" "
      ]
    },
    {
      "cell_type": "code",
      "source": [
        "client = bigquery.Client(project=project_id)"
      ],
      "metadata": {
        "id": "Mp4tvQVm7qM6"
      },
      "execution_count": 38,
      "outputs": []
    },
    {
      "cell_type": "markdown",
      "source": [
        "#### Untuk memudahkan analisa dan querry data maka kita terlebih dahulu harus tau missing value tiap kolom agar, querry yang dibuat akan menjadi akurat"
      ],
      "metadata": {
        "id": "7d19KMjxIauv"
      }
    },
    {
      "cell_type": "code",
      "source": [
        "df = client.query('''\n",
        "SELECT *\n",
        "FROM `bigquery-public-data.austin_crime.crime` \n",
        "WHERE year = 2016\n",
        "''').to_dataframe()"
      ],
      "metadata": {
        "id": "VtPg49w7-oqx"
      },
      "execution_count": 39,
      "outputs": []
    },
    {
      "cell_type": "code",
      "source": [
        "df.isnull().sum()"
      ],
      "metadata": {
        "colab": {
          "base_uri": "https://localhost:8080/"
        },
        "id": "pkqVOQbJ-leO",
        "outputId": "ed8e69ca-2196-419e-8e98-5482a05ec5a8"
      },
      "execution_count": 40,
      "outputs": [
        {
          "output_type": "execute_result",
          "data": {
            "text/plain": [
              "unique_key                   1\n",
              "address                      0\n",
              "census_tract               167\n",
              "clearance_date            1719\n",
              "clearance_status          1719\n",
              "council_district_code      256\n",
              "description                  0\n",
              "district                     0\n",
              "latitude                 37461\n",
              "longitude                37461\n",
              "location                 37461\n",
              "location_description         0\n",
              "primary_type                 0\n",
              "timestamp                    0\n",
              "x_coordinate               867\n",
              "y_coordinate               867\n",
              "year                         0\n",
              "zipcode                    167\n",
              "dtype: int64"
            ]
          },
          "metadata": {},
          "execution_count": 40
        }
      ]
    },
    {
      "cell_type": "markdown",
      "source": [
        "Ternyata banyak missing value yang tedapat pada dataset maka dari itu kita harus berhati-hati memilih kolom yang ingin kita querry agar hasil menjadi akurat"
      ],
      "metadata": {
        "id": "N61SPIRPItJe"
      }
    },
    {
      "cell_type": "markdown",
      "source": [
        "## Penjabaran Masalah"
      ],
      "metadata": {
        "id": "sRM0SiprI6jW"
      }
    },
    {
      "cell_type": "markdown",
      "source": [
        " #### 1. Tampilkan tabel crime sampai 5 baris pertama"
      ],
      "metadata": {
        "id": "rKwZefli72_v"
      }
    },
    {
      "cell_type": "markdown",
      "source": [
        "```\n",
        "SELECT *\n",
        "FROM `bigquery-public-data.austin_crime.crime` \n",
        "LIMIT 5\n",
        "```"
      ],
      "metadata": {
        "id": "brh9D9nbTcKt"
      }
    },
    {
      "cell_type": "code",
      "source": [
        "soal_1 = pd.read_csv('P0LC3_M_Fahrur_Rozi_BB_1.csv')\n",
        "soal_1"
      ],
      "metadata": {
        "colab": {
          "base_uri": "https://localhost:8080/",
          "height": 444
        },
        "id": "5grIwiKYUB9e",
        "outputId": "ae4a7279-1409-40a9-8383-d55c821ff256"
      },
      "execution_count": 53,
      "outputs": [
        {
          "output_type": "execute_result",
          "data": {
            "text/plain": [
              "    unique_key     address  census_tract                  clearance_date  \\\n",
              "0  20165002898  Austin, TX           NaN  2016-03-14 12:00:00.000000 UTC   \n",
              "1  20165004843  Austin, TX           NaN  2016-03-31 12:00:00.000000 UTC   \n",
              "2   2016250988  Austin, TX           NaN  2016-09-16 12:00:00.000000 UTC   \n",
              "3  20165003839  Austin, TX           NaN  2016-02-09 12:00:00.000000 UTC   \n",
              "4   2016321746  Austin, TX           NaN  2016-03-22 12:00:00.000000 UTC   \n",
              "\n",
              "  clearance_status  council_district_code                     description  \\\n",
              "0      Not cleared                    NaN  RAPE                             \n",
              "1      Not cleared                    NaN  RAPE                             \n",
              "2      Not cleared                    NaN  RAPE                             \n",
              "3      Not cleared                    NaN  AGG RAPE OF A CHILD              \n",
              "4      Not cleared                    NaN  RAPE OF A CHILD                  \n",
              "\n",
              "  district  latitude  longitude  location  location_description primary_type  \\\n",
              "0       UK       NaN        NaN       NaN                   NaN         Rape   \n",
              "1       UK       NaN        NaN       NaN                   NaN         Rape   \n",
              "2       UK       NaN        NaN       NaN                   NaN         Rape   \n",
              "3       UK       NaN        NaN       NaN                   NaN         Rape   \n",
              "4       UK       NaN        NaN       NaN                   NaN         Rape   \n",
              "\n",
              "                        timestamp  x_coordinate  y_coordinate  year  zipcode  \n",
              "0  2016-01-19 12:00:00.000000 UTC           NaN           NaN  2016      NaN  \n",
              "1  2016-01-25 12:00:00.000000 UTC           NaN           NaN  2016      NaN  \n",
              "2  2016-01-25 12:00:00.000000 UTC           NaN           NaN  2016      NaN  \n",
              "3  2016-01-27 12:00:00.000000 UTC           NaN           NaN  2016      NaN  \n",
              "4  2016-02-01 12:00:00.000000 UTC           NaN           NaN  2016      NaN  "
            ],
            "text/html": [
              "\n",
              "  <div id=\"df-e762d68d-4ec4-4b5f-9170-79b96d44f093\">\n",
              "    <div class=\"colab-df-container\">\n",
              "      <div>\n",
              "<style scoped>\n",
              "    .dataframe tbody tr th:only-of-type {\n",
              "        vertical-align: middle;\n",
              "    }\n",
              "\n",
              "    .dataframe tbody tr th {\n",
              "        vertical-align: top;\n",
              "    }\n",
              "\n",
              "    .dataframe thead th {\n",
              "        text-align: right;\n",
              "    }\n",
              "</style>\n",
              "<table border=\"1\" class=\"dataframe\">\n",
              "  <thead>\n",
              "    <tr style=\"text-align: right;\">\n",
              "      <th></th>\n",
              "      <th>unique_key</th>\n",
              "      <th>address</th>\n",
              "      <th>census_tract</th>\n",
              "      <th>clearance_date</th>\n",
              "      <th>clearance_status</th>\n",
              "      <th>council_district_code</th>\n",
              "      <th>description</th>\n",
              "      <th>district</th>\n",
              "      <th>latitude</th>\n",
              "      <th>longitude</th>\n",
              "      <th>location</th>\n",
              "      <th>location_description</th>\n",
              "      <th>primary_type</th>\n",
              "      <th>timestamp</th>\n",
              "      <th>x_coordinate</th>\n",
              "      <th>y_coordinate</th>\n",
              "      <th>year</th>\n",
              "      <th>zipcode</th>\n",
              "    </tr>\n",
              "  </thead>\n",
              "  <tbody>\n",
              "    <tr>\n",
              "      <th>0</th>\n",
              "      <td>20165002898</td>\n",
              "      <td>Austin, TX</td>\n",
              "      <td>NaN</td>\n",
              "      <td>2016-03-14 12:00:00.000000 UTC</td>\n",
              "      <td>Not cleared</td>\n",
              "      <td>NaN</td>\n",
              "      <td>RAPE</td>\n",
              "      <td>UK</td>\n",
              "      <td>NaN</td>\n",
              "      <td>NaN</td>\n",
              "      <td>NaN</td>\n",
              "      <td>NaN</td>\n",
              "      <td>Rape</td>\n",
              "      <td>2016-01-19 12:00:00.000000 UTC</td>\n",
              "      <td>NaN</td>\n",
              "      <td>NaN</td>\n",
              "      <td>2016</td>\n",
              "      <td>NaN</td>\n",
              "    </tr>\n",
              "    <tr>\n",
              "      <th>1</th>\n",
              "      <td>20165004843</td>\n",
              "      <td>Austin, TX</td>\n",
              "      <td>NaN</td>\n",
              "      <td>2016-03-31 12:00:00.000000 UTC</td>\n",
              "      <td>Not cleared</td>\n",
              "      <td>NaN</td>\n",
              "      <td>RAPE</td>\n",
              "      <td>UK</td>\n",
              "      <td>NaN</td>\n",
              "      <td>NaN</td>\n",
              "      <td>NaN</td>\n",
              "      <td>NaN</td>\n",
              "      <td>Rape</td>\n",
              "      <td>2016-01-25 12:00:00.000000 UTC</td>\n",
              "      <td>NaN</td>\n",
              "      <td>NaN</td>\n",
              "      <td>2016</td>\n",
              "      <td>NaN</td>\n",
              "    </tr>\n",
              "    <tr>\n",
              "      <th>2</th>\n",
              "      <td>2016250988</td>\n",
              "      <td>Austin, TX</td>\n",
              "      <td>NaN</td>\n",
              "      <td>2016-09-16 12:00:00.000000 UTC</td>\n",
              "      <td>Not cleared</td>\n",
              "      <td>NaN</td>\n",
              "      <td>RAPE</td>\n",
              "      <td>UK</td>\n",
              "      <td>NaN</td>\n",
              "      <td>NaN</td>\n",
              "      <td>NaN</td>\n",
              "      <td>NaN</td>\n",
              "      <td>Rape</td>\n",
              "      <td>2016-01-25 12:00:00.000000 UTC</td>\n",
              "      <td>NaN</td>\n",
              "      <td>NaN</td>\n",
              "      <td>2016</td>\n",
              "      <td>NaN</td>\n",
              "    </tr>\n",
              "    <tr>\n",
              "      <th>3</th>\n",
              "      <td>20165003839</td>\n",
              "      <td>Austin, TX</td>\n",
              "      <td>NaN</td>\n",
              "      <td>2016-02-09 12:00:00.000000 UTC</td>\n",
              "      <td>Not cleared</td>\n",
              "      <td>NaN</td>\n",
              "      <td>AGG RAPE OF A CHILD</td>\n",
              "      <td>UK</td>\n",
              "      <td>NaN</td>\n",
              "      <td>NaN</td>\n",
              "      <td>NaN</td>\n",
              "      <td>NaN</td>\n",
              "      <td>Rape</td>\n",
              "      <td>2016-01-27 12:00:00.000000 UTC</td>\n",
              "      <td>NaN</td>\n",
              "      <td>NaN</td>\n",
              "      <td>2016</td>\n",
              "      <td>NaN</td>\n",
              "    </tr>\n",
              "    <tr>\n",
              "      <th>4</th>\n",
              "      <td>2016321746</td>\n",
              "      <td>Austin, TX</td>\n",
              "      <td>NaN</td>\n",
              "      <td>2016-03-22 12:00:00.000000 UTC</td>\n",
              "      <td>Not cleared</td>\n",
              "      <td>NaN</td>\n",
              "      <td>RAPE OF A CHILD</td>\n",
              "      <td>UK</td>\n",
              "      <td>NaN</td>\n",
              "      <td>NaN</td>\n",
              "      <td>NaN</td>\n",
              "      <td>NaN</td>\n",
              "      <td>Rape</td>\n",
              "      <td>2016-02-01 12:00:00.000000 UTC</td>\n",
              "      <td>NaN</td>\n",
              "      <td>NaN</td>\n",
              "      <td>2016</td>\n",
              "      <td>NaN</td>\n",
              "    </tr>\n",
              "  </tbody>\n",
              "</table>\n",
              "</div>\n",
              "      <button class=\"colab-df-convert\" onclick=\"convertToInteractive('df-e762d68d-4ec4-4b5f-9170-79b96d44f093')\"\n",
              "              title=\"Convert this dataframe to an interactive table.\"\n",
              "              style=\"display:none;\">\n",
              "        \n",
              "  <svg xmlns=\"http://www.w3.org/2000/svg\" height=\"24px\"viewBox=\"0 0 24 24\"\n",
              "       width=\"24px\">\n",
              "    <path d=\"M0 0h24v24H0V0z\" fill=\"none\"/>\n",
              "    <path d=\"M18.56 5.44l.94 2.06.94-2.06 2.06-.94-2.06-.94-.94-2.06-.94 2.06-2.06.94zm-11 1L8.5 8.5l.94-2.06 2.06-.94-2.06-.94L8.5 2.5l-.94 2.06-2.06.94zm10 10l.94 2.06.94-2.06 2.06-.94-2.06-.94-.94-2.06-.94 2.06-2.06.94z\"/><path d=\"M17.41 7.96l-1.37-1.37c-.4-.4-.92-.59-1.43-.59-.52 0-1.04.2-1.43.59L10.3 9.45l-7.72 7.72c-.78.78-.78 2.05 0 2.83L4 21.41c.39.39.9.59 1.41.59.51 0 1.02-.2 1.41-.59l7.78-7.78 2.81-2.81c.8-.78.8-2.07 0-2.86zM5.41 20L4 18.59l7.72-7.72 1.47 1.35L5.41 20z\"/>\n",
              "  </svg>\n",
              "      </button>\n",
              "      \n",
              "  <style>\n",
              "    .colab-df-container {\n",
              "      display:flex;\n",
              "      flex-wrap:wrap;\n",
              "      gap: 12px;\n",
              "    }\n",
              "\n",
              "    .colab-df-convert {\n",
              "      background-color: #E8F0FE;\n",
              "      border: none;\n",
              "      border-radius: 50%;\n",
              "      cursor: pointer;\n",
              "      display: none;\n",
              "      fill: #1967D2;\n",
              "      height: 32px;\n",
              "      padding: 0 0 0 0;\n",
              "      width: 32px;\n",
              "    }\n",
              "\n",
              "    .colab-df-convert:hover {\n",
              "      background-color: #E2EBFA;\n",
              "      box-shadow: 0px 1px 2px rgba(60, 64, 67, 0.3), 0px 1px 3px 1px rgba(60, 64, 67, 0.15);\n",
              "      fill: #174EA6;\n",
              "    }\n",
              "\n",
              "    [theme=dark] .colab-df-convert {\n",
              "      background-color: #3B4455;\n",
              "      fill: #D2E3FC;\n",
              "    }\n",
              "\n",
              "    [theme=dark] .colab-df-convert:hover {\n",
              "      background-color: #434B5C;\n",
              "      box-shadow: 0px 1px 3px 1px rgba(0, 0, 0, 0.15);\n",
              "      filter: drop-shadow(0px 1px 2px rgba(0, 0, 0, 0.3));\n",
              "      fill: #FFFFFF;\n",
              "    }\n",
              "  </style>\n",
              "\n",
              "      <script>\n",
              "        const buttonEl =\n",
              "          document.querySelector('#df-e762d68d-4ec4-4b5f-9170-79b96d44f093 button.colab-df-convert');\n",
              "        buttonEl.style.display =\n",
              "          google.colab.kernel.accessAllowed ? 'block' : 'none';\n",
              "\n",
              "        async function convertToInteractive(key) {\n",
              "          const element = document.querySelector('#df-e762d68d-4ec4-4b5f-9170-79b96d44f093');\n",
              "          const dataTable =\n",
              "            await google.colab.kernel.invokeFunction('convertToInteractive',\n",
              "                                                     [key], {});\n",
              "          if (!dataTable) return;\n",
              "\n",
              "          const docLinkHtml = 'Like what you see? Visit the ' +\n",
              "            '<a target=\"_blank\" href=https://colab.research.google.com/notebooks/data_table.ipynb>data table notebook</a>'\n",
              "            + ' to learn more about interactive tables.';\n",
              "          element.innerHTML = '';\n",
              "          dataTable['output_type'] = 'display_data';\n",
              "          await google.colab.output.renderOutput(dataTable, element);\n",
              "          const docLink = document.createElement('div');\n",
              "          docLink.innerHTML = docLinkHtml;\n",
              "          element.appendChild(docLink);\n",
              "        }\n",
              "      </script>\n",
              "    </div>\n",
              "  </div>\n",
              "  "
            ]
          },
          "metadata": {},
          "execution_count": 53
        }
      ]
    },
    {
      "cell_type": "markdown",
      "source": [
        "#### 2. Apa saja jenis tindak kejahatan yang terjadi di kota Austin selama tahun 2016?"
      ],
      "metadata": {
        "id": "ih_tqI1878OE"
      }
    },
    {
      "cell_type": "markdown",
      "source": [
        "```\n",
        "SELECT DISTINCT(primary_type)\n",
        "FROM `bigquery-public-data.austin_crime.crime` \n",
        "WHERE year = 2016\n",
        "```"
      ],
      "metadata": {
        "id": "oVYL64KqTgzy"
      }
    },
    {
      "cell_type": "code",
      "source": [
        "soal_2 = pd.read_csv('P0LC3_M_Fahrur_Rozi_BB_2.csv')\n",
        "soal_2"
      ],
      "metadata": {
        "colab": {
          "base_uri": "https://localhost:8080/",
          "height": 269
        },
        "id": "ONE1sLLz7-Cs",
        "outputId": "ebe2c2f7-96db-4a91-f373-5e9ebee3a084"
      },
      "execution_count": 54,
      "outputs": [
        {
          "output_type": "execute_result",
          "data": {
            "text/plain": [
              "  primary_type\n",
              "0         Rape\n",
              "1        Theft\n",
              "2      Robbery\n",
              "3  Agg Assault\n",
              "4     Burglary\n",
              "5   Auto Theft\n",
              "6       Murder"
            ],
            "text/html": [
              "\n",
              "  <div id=\"df-e4a8f679-2c35-4c3c-a548-49d8e960240f\">\n",
              "    <div class=\"colab-df-container\">\n",
              "      <div>\n",
              "<style scoped>\n",
              "    .dataframe tbody tr th:only-of-type {\n",
              "        vertical-align: middle;\n",
              "    }\n",
              "\n",
              "    .dataframe tbody tr th {\n",
              "        vertical-align: top;\n",
              "    }\n",
              "\n",
              "    .dataframe thead th {\n",
              "        text-align: right;\n",
              "    }\n",
              "</style>\n",
              "<table border=\"1\" class=\"dataframe\">\n",
              "  <thead>\n",
              "    <tr style=\"text-align: right;\">\n",
              "      <th></th>\n",
              "      <th>primary_type</th>\n",
              "    </tr>\n",
              "  </thead>\n",
              "  <tbody>\n",
              "    <tr>\n",
              "      <th>0</th>\n",
              "      <td>Rape</td>\n",
              "    </tr>\n",
              "    <tr>\n",
              "      <th>1</th>\n",
              "      <td>Theft</td>\n",
              "    </tr>\n",
              "    <tr>\n",
              "      <th>2</th>\n",
              "      <td>Robbery</td>\n",
              "    </tr>\n",
              "    <tr>\n",
              "      <th>3</th>\n",
              "      <td>Agg Assault</td>\n",
              "    </tr>\n",
              "    <tr>\n",
              "      <th>4</th>\n",
              "      <td>Burglary</td>\n",
              "    </tr>\n",
              "    <tr>\n",
              "      <th>5</th>\n",
              "      <td>Auto Theft</td>\n",
              "    </tr>\n",
              "    <tr>\n",
              "      <th>6</th>\n",
              "      <td>Murder</td>\n",
              "    </tr>\n",
              "  </tbody>\n",
              "</table>\n",
              "</div>\n",
              "      <button class=\"colab-df-convert\" onclick=\"convertToInteractive('df-e4a8f679-2c35-4c3c-a548-49d8e960240f')\"\n",
              "              title=\"Convert this dataframe to an interactive table.\"\n",
              "              style=\"display:none;\">\n",
              "        \n",
              "  <svg xmlns=\"http://www.w3.org/2000/svg\" height=\"24px\"viewBox=\"0 0 24 24\"\n",
              "       width=\"24px\">\n",
              "    <path d=\"M0 0h24v24H0V0z\" fill=\"none\"/>\n",
              "    <path d=\"M18.56 5.44l.94 2.06.94-2.06 2.06-.94-2.06-.94-.94-2.06-.94 2.06-2.06.94zm-11 1L8.5 8.5l.94-2.06 2.06-.94-2.06-.94L8.5 2.5l-.94 2.06-2.06.94zm10 10l.94 2.06.94-2.06 2.06-.94-2.06-.94-.94-2.06-.94 2.06-2.06.94z\"/><path d=\"M17.41 7.96l-1.37-1.37c-.4-.4-.92-.59-1.43-.59-.52 0-1.04.2-1.43.59L10.3 9.45l-7.72 7.72c-.78.78-.78 2.05 0 2.83L4 21.41c.39.39.9.59 1.41.59.51 0 1.02-.2 1.41-.59l7.78-7.78 2.81-2.81c.8-.78.8-2.07 0-2.86zM5.41 20L4 18.59l7.72-7.72 1.47 1.35L5.41 20z\"/>\n",
              "  </svg>\n",
              "      </button>\n",
              "      \n",
              "  <style>\n",
              "    .colab-df-container {\n",
              "      display:flex;\n",
              "      flex-wrap:wrap;\n",
              "      gap: 12px;\n",
              "    }\n",
              "\n",
              "    .colab-df-convert {\n",
              "      background-color: #E8F0FE;\n",
              "      border: none;\n",
              "      border-radius: 50%;\n",
              "      cursor: pointer;\n",
              "      display: none;\n",
              "      fill: #1967D2;\n",
              "      height: 32px;\n",
              "      padding: 0 0 0 0;\n",
              "      width: 32px;\n",
              "    }\n",
              "\n",
              "    .colab-df-convert:hover {\n",
              "      background-color: #E2EBFA;\n",
              "      box-shadow: 0px 1px 2px rgba(60, 64, 67, 0.3), 0px 1px 3px 1px rgba(60, 64, 67, 0.15);\n",
              "      fill: #174EA6;\n",
              "    }\n",
              "\n",
              "    [theme=dark] .colab-df-convert {\n",
              "      background-color: #3B4455;\n",
              "      fill: #D2E3FC;\n",
              "    }\n",
              "\n",
              "    [theme=dark] .colab-df-convert:hover {\n",
              "      background-color: #434B5C;\n",
              "      box-shadow: 0px 1px 3px 1px rgba(0, 0, 0, 0.15);\n",
              "      filter: drop-shadow(0px 1px 2px rgba(0, 0, 0, 0.3));\n",
              "      fill: #FFFFFF;\n",
              "    }\n",
              "  </style>\n",
              "\n",
              "      <script>\n",
              "        const buttonEl =\n",
              "          document.querySelector('#df-e4a8f679-2c35-4c3c-a548-49d8e960240f button.colab-df-convert');\n",
              "        buttonEl.style.display =\n",
              "          google.colab.kernel.accessAllowed ? 'block' : 'none';\n",
              "\n",
              "        async function convertToInteractive(key) {\n",
              "          const element = document.querySelector('#df-e4a8f679-2c35-4c3c-a548-49d8e960240f');\n",
              "          const dataTable =\n",
              "            await google.colab.kernel.invokeFunction('convertToInteractive',\n",
              "                                                     [key], {});\n",
              "          if (!dataTable) return;\n",
              "\n",
              "          const docLinkHtml = 'Like what you see? Visit the ' +\n",
              "            '<a target=\"_blank\" href=https://colab.research.google.com/notebooks/data_table.ipynb>data table notebook</a>'\n",
              "            + ' to learn more about interactive tables.';\n",
              "          element.innerHTML = '';\n",
              "          dataTable['output_type'] = 'display_data';\n",
              "          await google.colab.output.renderOutput(dataTable, element);\n",
              "          const docLink = document.createElement('div');\n",
              "          docLink.innerHTML = docLinkHtml;\n",
              "          element.appendChild(docLink);\n",
              "        }\n",
              "      </script>\n",
              "    </div>\n",
              "  </div>\n",
              "  "
            ]
          },
          "metadata": {},
          "execution_count": 54
        }
      ]
    },
    {
      "cell_type": "markdown",
      "source": [
        "#### 3. Berapa banyak kasus tindak kejahatan berdasarkan kasus pembersihannya (clearance status) selama tahun 2016?"
      ],
      "metadata": {
        "id": "XtJq2P_z9Hze"
      }
    },
    {
      "cell_type": "markdown",
      "source": [
        "```\n",
        "SELECT \n",
        "  clearance_status\n",
        "  , COUNT(primary_type) as total_case\n",
        "FROM `bigquery-public-data.austin_crime.crime` \n",
        "WHERE year = 2016\n",
        "GROUP BY clearance_status\n",
        "```"
      ],
      "metadata": {
        "id": "7wG6eTVFTki7"
      }
    },
    {
      "cell_type": "code",
      "source": [
        "soal_3 = pd.read_csv('P0LC3_M_Fahrur_Rozi_BB_3.csv')\n",
        "soal_3"
      ],
      "metadata": {
        "colab": {
          "base_uri": "https://localhost:8080/",
          "height": 175
        },
        "id": "2vzWWBH69JUC",
        "outputId": "d9b34eb6-6078-4b78-d673-8cf5b4cc0e1e"
      },
      "execution_count": 55,
      "outputs": [
        {
          "output_type": "execute_result",
          "data": {
            "text/plain": [
              "       clearance_status  total_case\n",
              "0           Not cleared       29715\n",
              "1  Cleared by Exception        1014\n",
              "2                   NaN        1719\n",
              "3     Cleared by Arrest        5013"
            ],
            "text/html": [
              "\n",
              "  <div id=\"df-c2030188-a386-4ebb-b90c-84f057dc8266\">\n",
              "    <div class=\"colab-df-container\">\n",
              "      <div>\n",
              "<style scoped>\n",
              "    .dataframe tbody tr th:only-of-type {\n",
              "        vertical-align: middle;\n",
              "    }\n",
              "\n",
              "    .dataframe tbody tr th {\n",
              "        vertical-align: top;\n",
              "    }\n",
              "\n",
              "    .dataframe thead th {\n",
              "        text-align: right;\n",
              "    }\n",
              "</style>\n",
              "<table border=\"1\" class=\"dataframe\">\n",
              "  <thead>\n",
              "    <tr style=\"text-align: right;\">\n",
              "      <th></th>\n",
              "      <th>clearance_status</th>\n",
              "      <th>total_case</th>\n",
              "    </tr>\n",
              "  </thead>\n",
              "  <tbody>\n",
              "    <tr>\n",
              "      <th>0</th>\n",
              "      <td>Not cleared</td>\n",
              "      <td>29715</td>\n",
              "    </tr>\n",
              "    <tr>\n",
              "      <th>1</th>\n",
              "      <td>Cleared by Exception</td>\n",
              "      <td>1014</td>\n",
              "    </tr>\n",
              "    <tr>\n",
              "      <th>2</th>\n",
              "      <td>NaN</td>\n",
              "      <td>1719</td>\n",
              "    </tr>\n",
              "    <tr>\n",
              "      <th>3</th>\n",
              "      <td>Cleared by Arrest</td>\n",
              "      <td>5013</td>\n",
              "    </tr>\n",
              "  </tbody>\n",
              "</table>\n",
              "</div>\n",
              "      <button class=\"colab-df-convert\" onclick=\"convertToInteractive('df-c2030188-a386-4ebb-b90c-84f057dc8266')\"\n",
              "              title=\"Convert this dataframe to an interactive table.\"\n",
              "              style=\"display:none;\">\n",
              "        \n",
              "  <svg xmlns=\"http://www.w3.org/2000/svg\" height=\"24px\"viewBox=\"0 0 24 24\"\n",
              "       width=\"24px\">\n",
              "    <path d=\"M0 0h24v24H0V0z\" fill=\"none\"/>\n",
              "    <path d=\"M18.56 5.44l.94 2.06.94-2.06 2.06-.94-2.06-.94-.94-2.06-.94 2.06-2.06.94zm-11 1L8.5 8.5l.94-2.06 2.06-.94-2.06-.94L8.5 2.5l-.94 2.06-2.06.94zm10 10l.94 2.06.94-2.06 2.06-.94-2.06-.94-.94-2.06-.94 2.06-2.06.94z\"/><path d=\"M17.41 7.96l-1.37-1.37c-.4-.4-.92-.59-1.43-.59-.52 0-1.04.2-1.43.59L10.3 9.45l-7.72 7.72c-.78.78-.78 2.05 0 2.83L4 21.41c.39.39.9.59 1.41.59.51 0 1.02-.2 1.41-.59l7.78-7.78 2.81-2.81c.8-.78.8-2.07 0-2.86zM5.41 20L4 18.59l7.72-7.72 1.47 1.35L5.41 20z\"/>\n",
              "  </svg>\n",
              "      </button>\n",
              "      \n",
              "  <style>\n",
              "    .colab-df-container {\n",
              "      display:flex;\n",
              "      flex-wrap:wrap;\n",
              "      gap: 12px;\n",
              "    }\n",
              "\n",
              "    .colab-df-convert {\n",
              "      background-color: #E8F0FE;\n",
              "      border: none;\n",
              "      border-radius: 50%;\n",
              "      cursor: pointer;\n",
              "      display: none;\n",
              "      fill: #1967D2;\n",
              "      height: 32px;\n",
              "      padding: 0 0 0 0;\n",
              "      width: 32px;\n",
              "    }\n",
              "\n",
              "    .colab-df-convert:hover {\n",
              "      background-color: #E2EBFA;\n",
              "      box-shadow: 0px 1px 2px rgba(60, 64, 67, 0.3), 0px 1px 3px 1px rgba(60, 64, 67, 0.15);\n",
              "      fill: #174EA6;\n",
              "    }\n",
              "\n",
              "    [theme=dark] .colab-df-convert {\n",
              "      background-color: #3B4455;\n",
              "      fill: #D2E3FC;\n",
              "    }\n",
              "\n",
              "    [theme=dark] .colab-df-convert:hover {\n",
              "      background-color: #434B5C;\n",
              "      box-shadow: 0px 1px 3px 1px rgba(0, 0, 0, 0.15);\n",
              "      filter: drop-shadow(0px 1px 2px rgba(0, 0, 0, 0.3));\n",
              "      fill: #FFFFFF;\n",
              "    }\n",
              "  </style>\n",
              "\n",
              "      <script>\n",
              "        const buttonEl =\n",
              "          document.querySelector('#df-c2030188-a386-4ebb-b90c-84f057dc8266 button.colab-df-convert');\n",
              "        buttonEl.style.display =\n",
              "          google.colab.kernel.accessAllowed ? 'block' : 'none';\n",
              "\n",
              "        async function convertToInteractive(key) {\n",
              "          const element = document.querySelector('#df-c2030188-a386-4ebb-b90c-84f057dc8266');\n",
              "          const dataTable =\n",
              "            await google.colab.kernel.invokeFunction('convertToInteractive',\n",
              "                                                     [key], {});\n",
              "          if (!dataTable) return;\n",
              "\n",
              "          const docLinkHtml = 'Like what you see? Visit the ' +\n",
              "            '<a target=\"_blank\" href=https://colab.research.google.com/notebooks/data_table.ipynb>data table notebook</a>'\n",
              "            + ' to learn more about interactive tables.';\n",
              "          element.innerHTML = '';\n",
              "          dataTable['output_type'] = 'display_data';\n",
              "          await google.colab.output.renderOutput(dataTable, element);\n",
              "          const docLink = document.createElement('div');\n",
              "          docLink.innerHTML = docLinkHtml;\n",
              "          element.appendChild(docLink);\n",
              "        }\n",
              "      </script>\n",
              "    </div>\n",
              "  </div>\n",
              "  "
            ]
          },
          "metadata": {},
          "execution_count": 55
        }
      ]
    },
    {
      "cell_type": "markdown",
      "source": [
        "Saya memilih kolom primary_type sebagai total_case karena pada kolom tersebut terdapat 0 missing value sehingga, total kasus yang didapat tidak berkurang karena adanya nilai yang kosong"
      ],
      "metadata": {
        "id": "gcd7R3aNJeBZ"
      }
    },
    {
      "cell_type": "markdown",
      "source": [
        "#### 4. Jenis kejahatan apa saja yang paling banyak belum terselesaikan kasusnya di tahun 2016?"
      ],
      "metadata": {
        "id": "gUdZ6k1V_BbM"
      }
    },
    {
      "cell_type": "markdown",
      "source": [
        "```\n",
        "SELECT \n",
        "  primary_type\n",
        "  , COUNT(primary_type) as total_case\n",
        "FROM `bigquery-public-data.austin_crime.crime` \n",
        "WHERE year = 2016 AND clearance_status = 'Not cleared'\n",
        "GROUP BY primary_type\n",
        "ORDER BY total_case DESC\n",
        "LIMIT 3\n",
        "```"
      ],
      "metadata": {
        "id": "aHvnn2SQTnlb"
      }
    },
    {
      "cell_type": "code",
      "source": [
        "soal_4 = pd.read_csv('P0LC3_M_Fahrur_Rozi_BB_4.csv')\n",
        "soal_4"
      ],
      "metadata": {
        "colab": {
          "base_uri": "https://localhost:8080/",
          "height": 143
        },
        "id": "CEaJbvtD_D4T",
        "outputId": "f822224d-a3f3-45fa-e6ff-9e6b660ff4a5"
      },
      "execution_count": 56,
      "outputs": [
        {
          "output_type": "execute_result",
          "data": {
            "text/plain": [
              "  primary_type  total_case\n",
              "0        Theft       21894\n",
              "1     Burglary        4440\n",
              "2   Auto Theft        1540"
            ],
            "text/html": [
              "\n",
              "  <div id=\"df-ddf3547a-60dc-483b-bae9-bd4162b9739b\">\n",
              "    <div class=\"colab-df-container\">\n",
              "      <div>\n",
              "<style scoped>\n",
              "    .dataframe tbody tr th:only-of-type {\n",
              "        vertical-align: middle;\n",
              "    }\n",
              "\n",
              "    .dataframe tbody tr th {\n",
              "        vertical-align: top;\n",
              "    }\n",
              "\n",
              "    .dataframe thead th {\n",
              "        text-align: right;\n",
              "    }\n",
              "</style>\n",
              "<table border=\"1\" class=\"dataframe\">\n",
              "  <thead>\n",
              "    <tr style=\"text-align: right;\">\n",
              "      <th></th>\n",
              "      <th>primary_type</th>\n",
              "      <th>total_case</th>\n",
              "    </tr>\n",
              "  </thead>\n",
              "  <tbody>\n",
              "    <tr>\n",
              "      <th>0</th>\n",
              "      <td>Theft</td>\n",
              "      <td>21894</td>\n",
              "    </tr>\n",
              "    <tr>\n",
              "      <th>1</th>\n",
              "      <td>Burglary</td>\n",
              "      <td>4440</td>\n",
              "    </tr>\n",
              "    <tr>\n",
              "      <th>2</th>\n",
              "      <td>Auto Theft</td>\n",
              "      <td>1540</td>\n",
              "    </tr>\n",
              "  </tbody>\n",
              "</table>\n",
              "</div>\n",
              "      <button class=\"colab-df-convert\" onclick=\"convertToInteractive('df-ddf3547a-60dc-483b-bae9-bd4162b9739b')\"\n",
              "              title=\"Convert this dataframe to an interactive table.\"\n",
              "              style=\"display:none;\">\n",
              "        \n",
              "  <svg xmlns=\"http://www.w3.org/2000/svg\" height=\"24px\"viewBox=\"0 0 24 24\"\n",
              "       width=\"24px\">\n",
              "    <path d=\"M0 0h24v24H0V0z\" fill=\"none\"/>\n",
              "    <path d=\"M18.56 5.44l.94 2.06.94-2.06 2.06-.94-2.06-.94-.94-2.06-.94 2.06-2.06.94zm-11 1L8.5 8.5l.94-2.06 2.06-.94-2.06-.94L8.5 2.5l-.94 2.06-2.06.94zm10 10l.94 2.06.94-2.06 2.06-.94-2.06-.94-.94-2.06-.94 2.06-2.06.94z\"/><path d=\"M17.41 7.96l-1.37-1.37c-.4-.4-.92-.59-1.43-.59-.52 0-1.04.2-1.43.59L10.3 9.45l-7.72 7.72c-.78.78-.78 2.05 0 2.83L4 21.41c.39.39.9.59 1.41.59.51 0 1.02-.2 1.41-.59l7.78-7.78 2.81-2.81c.8-.78.8-2.07 0-2.86zM5.41 20L4 18.59l7.72-7.72 1.47 1.35L5.41 20z\"/>\n",
              "  </svg>\n",
              "      </button>\n",
              "      \n",
              "  <style>\n",
              "    .colab-df-container {\n",
              "      display:flex;\n",
              "      flex-wrap:wrap;\n",
              "      gap: 12px;\n",
              "    }\n",
              "\n",
              "    .colab-df-convert {\n",
              "      background-color: #E8F0FE;\n",
              "      border: none;\n",
              "      border-radius: 50%;\n",
              "      cursor: pointer;\n",
              "      display: none;\n",
              "      fill: #1967D2;\n",
              "      height: 32px;\n",
              "      padding: 0 0 0 0;\n",
              "      width: 32px;\n",
              "    }\n",
              "\n",
              "    .colab-df-convert:hover {\n",
              "      background-color: #E2EBFA;\n",
              "      box-shadow: 0px 1px 2px rgba(60, 64, 67, 0.3), 0px 1px 3px 1px rgba(60, 64, 67, 0.15);\n",
              "      fill: #174EA6;\n",
              "    }\n",
              "\n",
              "    [theme=dark] .colab-df-convert {\n",
              "      background-color: #3B4455;\n",
              "      fill: #D2E3FC;\n",
              "    }\n",
              "\n",
              "    [theme=dark] .colab-df-convert:hover {\n",
              "      background-color: #434B5C;\n",
              "      box-shadow: 0px 1px 3px 1px rgba(0, 0, 0, 0.15);\n",
              "      filter: drop-shadow(0px 1px 2px rgba(0, 0, 0, 0.3));\n",
              "      fill: #FFFFFF;\n",
              "    }\n",
              "  </style>\n",
              "\n",
              "      <script>\n",
              "        const buttonEl =\n",
              "          document.querySelector('#df-ddf3547a-60dc-483b-bae9-bd4162b9739b button.colab-df-convert');\n",
              "        buttonEl.style.display =\n",
              "          google.colab.kernel.accessAllowed ? 'block' : 'none';\n",
              "\n",
              "        async function convertToInteractive(key) {\n",
              "          const element = document.querySelector('#df-ddf3547a-60dc-483b-bae9-bd4162b9739b');\n",
              "          const dataTable =\n",
              "            await google.colab.kernel.invokeFunction('convertToInteractive',\n",
              "                                                     [key], {});\n",
              "          if (!dataTable) return;\n",
              "\n",
              "          const docLinkHtml = 'Like what you see? Visit the ' +\n",
              "            '<a target=\"_blank\" href=https://colab.research.google.com/notebooks/data_table.ipynb>data table notebook</a>'\n",
              "            + ' to learn more about interactive tables.';\n",
              "          element.innerHTML = '';\n",
              "          dataTable['output_type'] = 'display_data';\n",
              "          await google.colab.output.renderOutput(dataTable, element);\n",
              "          const docLink = document.createElement('div');\n",
              "          docLink.innerHTML = docLinkHtml;\n",
              "          element.appendChild(docLink);\n",
              "        }\n",
              "      </script>\n",
              "    </div>\n",
              "  </div>\n",
              "  "
            ]
          },
          "metadata": {},
          "execution_count": 56
        }
      ]
    },
    {
      "cell_type": "markdown",
      "source": [
        "Karena di pertanyaan terdapat 'Jenis kejahatan apa saja ' maka saya menggunakan LIMIT 3, karena di soal menanyakan 'apa saja' yang berarti lebih dari 1"
      ],
      "metadata": {
        "id": "CuwEaVlYKFnj"
      }
    },
    {
      "cell_type": "markdown",
      "source": [
        "Saya memilih kolom primary_type sebagai total_case karena pada kolom tersebut terdapat 0 missing value sehingga, total kasus yang didapat tidak berkurang karena adanya nilai yang kosong"
      ],
      "metadata": {
        "id": "6UGb8T2pJ81X"
      }
    },
    {
      "cell_type": "markdown",
      "source": [
        "#### 5. Di bulan apa di tahun 2016 kasus pencurian (theft) sangat banyak terjadi?"
      ],
      "metadata": {
        "id": "V2HnrXdPAJiy"
      }
    },
    {
      "cell_type": "markdown",
      "source": [
        "```\n",
        "SELECT \n",
        "  primary_type\n",
        "  , EXTRACT(month FROM timestamp) AS month\n",
        "  , COUNT(primary_type) as total_case\n",
        "FROM `bigquery-public-data.austin_crime.crime` \n",
        "WHERE year = 2016 AND primary_type = 'Theft'\n",
        "GROUP BY primary_type, month\n",
        "ORDER BY total_case DESC\n",
        "LIMIT 1\n",
        "```"
      ],
      "metadata": {
        "id": "E49AKHrVTqw9"
      }
    },
    {
      "cell_type": "code",
      "source": [
        "soal_5 = pd.read_csv('P0LC3_M_Fahrur_Rozi_BB_5.csv')\n",
        "soal_5"
      ],
      "metadata": {
        "colab": {
          "base_uri": "https://localhost:8080/",
          "height": 81
        },
        "id": "6NEPSJ9hALFC",
        "outputId": "a4961ab2-1fbb-41d8-81b5-bd4d0f5650dc"
      },
      "execution_count": 57,
      "outputs": [
        {
          "output_type": "execute_result",
          "data": {
            "text/plain": [
              "  primary_type  month  total_case\n",
              "0        Theft      4        2282"
            ],
            "text/html": [
              "\n",
              "  <div id=\"df-e202a26c-3c04-4feb-b75b-a739e8419144\">\n",
              "    <div class=\"colab-df-container\">\n",
              "      <div>\n",
              "<style scoped>\n",
              "    .dataframe tbody tr th:only-of-type {\n",
              "        vertical-align: middle;\n",
              "    }\n",
              "\n",
              "    .dataframe tbody tr th {\n",
              "        vertical-align: top;\n",
              "    }\n",
              "\n",
              "    .dataframe thead th {\n",
              "        text-align: right;\n",
              "    }\n",
              "</style>\n",
              "<table border=\"1\" class=\"dataframe\">\n",
              "  <thead>\n",
              "    <tr style=\"text-align: right;\">\n",
              "      <th></th>\n",
              "      <th>primary_type</th>\n",
              "      <th>month</th>\n",
              "      <th>total_case</th>\n",
              "    </tr>\n",
              "  </thead>\n",
              "  <tbody>\n",
              "    <tr>\n",
              "      <th>0</th>\n",
              "      <td>Theft</td>\n",
              "      <td>4</td>\n",
              "      <td>2282</td>\n",
              "    </tr>\n",
              "  </tbody>\n",
              "</table>\n",
              "</div>\n",
              "      <button class=\"colab-df-convert\" onclick=\"convertToInteractive('df-e202a26c-3c04-4feb-b75b-a739e8419144')\"\n",
              "              title=\"Convert this dataframe to an interactive table.\"\n",
              "              style=\"display:none;\">\n",
              "        \n",
              "  <svg xmlns=\"http://www.w3.org/2000/svg\" height=\"24px\"viewBox=\"0 0 24 24\"\n",
              "       width=\"24px\">\n",
              "    <path d=\"M0 0h24v24H0V0z\" fill=\"none\"/>\n",
              "    <path d=\"M18.56 5.44l.94 2.06.94-2.06 2.06-.94-2.06-.94-.94-2.06-.94 2.06-2.06.94zm-11 1L8.5 8.5l.94-2.06 2.06-.94-2.06-.94L8.5 2.5l-.94 2.06-2.06.94zm10 10l.94 2.06.94-2.06 2.06-.94-2.06-.94-.94-2.06-.94 2.06-2.06.94z\"/><path d=\"M17.41 7.96l-1.37-1.37c-.4-.4-.92-.59-1.43-.59-.52 0-1.04.2-1.43.59L10.3 9.45l-7.72 7.72c-.78.78-.78 2.05 0 2.83L4 21.41c.39.39.9.59 1.41.59.51 0 1.02-.2 1.41-.59l7.78-7.78 2.81-2.81c.8-.78.8-2.07 0-2.86zM5.41 20L4 18.59l7.72-7.72 1.47 1.35L5.41 20z\"/>\n",
              "  </svg>\n",
              "      </button>\n",
              "      \n",
              "  <style>\n",
              "    .colab-df-container {\n",
              "      display:flex;\n",
              "      flex-wrap:wrap;\n",
              "      gap: 12px;\n",
              "    }\n",
              "\n",
              "    .colab-df-convert {\n",
              "      background-color: #E8F0FE;\n",
              "      border: none;\n",
              "      border-radius: 50%;\n",
              "      cursor: pointer;\n",
              "      display: none;\n",
              "      fill: #1967D2;\n",
              "      height: 32px;\n",
              "      padding: 0 0 0 0;\n",
              "      width: 32px;\n",
              "    }\n",
              "\n",
              "    .colab-df-convert:hover {\n",
              "      background-color: #E2EBFA;\n",
              "      box-shadow: 0px 1px 2px rgba(60, 64, 67, 0.3), 0px 1px 3px 1px rgba(60, 64, 67, 0.15);\n",
              "      fill: #174EA6;\n",
              "    }\n",
              "\n",
              "    [theme=dark] .colab-df-convert {\n",
              "      background-color: #3B4455;\n",
              "      fill: #D2E3FC;\n",
              "    }\n",
              "\n",
              "    [theme=dark] .colab-df-convert:hover {\n",
              "      background-color: #434B5C;\n",
              "      box-shadow: 0px 1px 3px 1px rgba(0, 0, 0, 0.15);\n",
              "      filter: drop-shadow(0px 1px 2px rgba(0, 0, 0, 0.3));\n",
              "      fill: #FFFFFF;\n",
              "    }\n",
              "  </style>\n",
              "\n",
              "      <script>\n",
              "        const buttonEl =\n",
              "          document.querySelector('#df-e202a26c-3c04-4feb-b75b-a739e8419144 button.colab-df-convert');\n",
              "        buttonEl.style.display =\n",
              "          google.colab.kernel.accessAllowed ? 'block' : 'none';\n",
              "\n",
              "        async function convertToInteractive(key) {\n",
              "          const element = document.querySelector('#df-e202a26c-3c04-4feb-b75b-a739e8419144');\n",
              "          const dataTable =\n",
              "            await google.colab.kernel.invokeFunction('convertToInteractive',\n",
              "                                                     [key], {});\n",
              "          if (!dataTable) return;\n",
              "\n",
              "          const docLinkHtml = 'Like what you see? Visit the ' +\n",
              "            '<a target=\"_blank\" href=https://colab.research.google.com/notebooks/data_table.ipynb>data table notebook</a>'\n",
              "            + ' to learn more about interactive tables.';\n",
              "          element.innerHTML = '';\n",
              "          dataTable['output_type'] = 'display_data';\n",
              "          await google.colab.output.renderOutput(dataTable, element);\n",
              "          const docLink = document.createElement('div');\n",
              "          docLink.innerHTML = docLinkHtml;\n",
              "          element.appendChild(docLink);\n",
              "        }\n",
              "      </script>\n",
              "    </div>\n",
              "  </div>\n",
              "  "
            ]
          },
          "metadata": {},
          "execution_count": 57
        }
      ]
    },
    {
      "cell_type": "markdown",
      "source": [
        "Karena di pertanyaan terdapat 'sangat banyak' yang berarti kasus tertinggi, sehingga saya menggunkan LIMIT 1 untuk menampilkan 1 kasus yang paling tinggi"
      ],
      "metadata": {
        "id": "grTUGuv0Kr-O"
      }
    },
    {
      "cell_type": "markdown",
      "source": [
        "Saya memilih kolom primary_type sebagai total_case karena pada kolom tersebut terdapat 0 missing value sehingga, total kasus yang didapat tidak berkurang karena adanya nilai yang kosong"
      ],
      "metadata": {
        "id": "4vdnnYcGLJHn"
      }
    },
    {
      "cell_type": "markdown",
      "source": [
        "#### 6. Di distrik apa yang paling banyak terjadi kasus pencurian selama 2016?"
      ],
      "metadata": {
        "id": "XEduM-bhBuaJ"
      }
    },
    {
      "cell_type": "markdown",
      "source": [
        "```\n",
        "SELECT \n",
        "  district\n",
        "  , COUNT(primary_type) as total_case\n",
        "FROM `bigquery-public-data.austin_crime.crime` \n",
        "WHERE year = 2016 AND primary_type = 'Theft'\n",
        "GROUP BY district\n",
        "ORDER BY total_case DESC\n",
        "LIMIT 1\n",
        "```"
      ],
      "metadata": {
        "id": "pWzi3uzmTt8s"
      }
    },
    {
      "cell_type": "code",
      "source": [
        "soal_6 = pd.read_csv('P0LC3_M_Fahrur_Rozi_BB_6.csv')\n",
        "soal_6"
      ],
      "metadata": {
        "colab": {
          "base_uri": "https://localhost:8080/",
          "height": 81
        },
        "id": "nRdWkDRnBwXp",
        "outputId": "833375c7-87d4-4b71-bc84-67264d501c77"
      },
      "execution_count": 58,
      "outputs": [
        {
          "output_type": "execute_result",
          "data": {
            "text/plain": [
              "  district  total_case\n",
              "0        D        4117"
            ],
            "text/html": [
              "\n",
              "  <div id=\"df-a4ee1efb-d1cc-4194-9802-6a21a3512981\">\n",
              "    <div class=\"colab-df-container\">\n",
              "      <div>\n",
              "<style scoped>\n",
              "    .dataframe tbody tr th:only-of-type {\n",
              "        vertical-align: middle;\n",
              "    }\n",
              "\n",
              "    .dataframe tbody tr th {\n",
              "        vertical-align: top;\n",
              "    }\n",
              "\n",
              "    .dataframe thead th {\n",
              "        text-align: right;\n",
              "    }\n",
              "</style>\n",
              "<table border=\"1\" class=\"dataframe\">\n",
              "  <thead>\n",
              "    <tr style=\"text-align: right;\">\n",
              "      <th></th>\n",
              "      <th>district</th>\n",
              "      <th>total_case</th>\n",
              "    </tr>\n",
              "  </thead>\n",
              "  <tbody>\n",
              "    <tr>\n",
              "      <th>0</th>\n",
              "      <td>D</td>\n",
              "      <td>4117</td>\n",
              "    </tr>\n",
              "  </tbody>\n",
              "</table>\n",
              "</div>\n",
              "      <button class=\"colab-df-convert\" onclick=\"convertToInteractive('df-a4ee1efb-d1cc-4194-9802-6a21a3512981')\"\n",
              "              title=\"Convert this dataframe to an interactive table.\"\n",
              "              style=\"display:none;\">\n",
              "        \n",
              "  <svg xmlns=\"http://www.w3.org/2000/svg\" height=\"24px\"viewBox=\"0 0 24 24\"\n",
              "       width=\"24px\">\n",
              "    <path d=\"M0 0h24v24H0V0z\" fill=\"none\"/>\n",
              "    <path d=\"M18.56 5.44l.94 2.06.94-2.06 2.06-.94-2.06-.94-.94-2.06-.94 2.06-2.06.94zm-11 1L8.5 8.5l.94-2.06 2.06-.94-2.06-.94L8.5 2.5l-.94 2.06-2.06.94zm10 10l.94 2.06.94-2.06 2.06-.94-2.06-.94-.94-2.06-.94 2.06-2.06.94z\"/><path d=\"M17.41 7.96l-1.37-1.37c-.4-.4-.92-.59-1.43-.59-.52 0-1.04.2-1.43.59L10.3 9.45l-7.72 7.72c-.78.78-.78 2.05 0 2.83L4 21.41c.39.39.9.59 1.41.59.51 0 1.02-.2 1.41-.59l7.78-7.78 2.81-2.81c.8-.78.8-2.07 0-2.86zM5.41 20L4 18.59l7.72-7.72 1.47 1.35L5.41 20z\"/>\n",
              "  </svg>\n",
              "      </button>\n",
              "      \n",
              "  <style>\n",
              "    .colab-df-container {\n",
              "      display:flex;\n",
              "      flex-wrap:wrap;\n",
              "      gap: 12px;\n",
              "    }\n",
              "\n",
              "    .colab-df-convert {\n",
              "      background-color: #E8F0FE;\n",
              "      border: none;\n",
              "      border-radius: 50%;\n",
              "      cursor: pointer;\n",
              "      display: none;\n",
              "      fill: #1967D2;\n",
              "      height: 32px;\n",
              "      padding: 0 0 0 0;\n",
              "      width: 32px;\n",
              "    }\n",
              "\n",
              "    .colab-df-convert:hover {\n",
              "      background-color: #E2EBFA;\n",
              "      box-shadow: 0px 1px 2px rgba(60, 64, 67, 0.3), 0px 1px 3px 1px rgba(60, 64, 67, 0.15);\n",
              "      fill: #174EA6;\n",
              "    }\n",
              "\n",
              "    [theme=dark] .colab-df-convert {\n",
              "      background-color: #3B4455;\n",
              "      fill: #D2E3FC;\n",
              "    }\n",
              "\n",
              "    [theme=dark] .colab-df-convert:hover {\n",
              "      background-color: #434B5C;\n",
              "      box-shadow: 0px 1px 3px 1px rgba(0, 0, 0, 0.15);\n",
              "      filter: drop-shadow(0px 1px 2px rgba(0, 0, 0, 0.3));\n",
              "      fill: #FFFFFF;\n",
              "    }\n",
              "  </style>\n",
              "\n",
              "      <script>\n",
              "        const buttonEl =\n",
              "          document.querySelector('#df-a4ee1efb-d1cc-4194-9802-6a21a3512981 button.colab-df-convert');\n",
              "        buttonEl.style.display =\n",
              "          google.colab.kernel.accessAllowed ? 'block' : 'none';\n",
              "\n",
              "        async function convertToInteractive(key) {\n",
              "          const element = document.querySelector('#df-a4ee1efb-d1cc-4194-9802-6a21a3512981');\n",
              "          const dataTable =\n",
              "            await google.colab.kernel.invokeFunction('convertToInteractive',\n",
              "                                                     [key], {});\n",
              "          if (!dataTable) return;\n",
              "\n",
              "          const docLinkHtml = 'Like what you see? Visit the ' +\n",
              "            '<a target=\"_blank\" href=https://colab.research.google.com/notebooks/data_table.ipynb>data table notebook</a>'\n",
              "            + ' to learn more about interactive tables.';\n",
              "          element.innerHTML = '';\n",
              "          dataTable['output_type'] = 'display_data';\n",
              "          await google.colab.output.renderOutput(dataTable, element);\n",
              "          const docLink = document.createElement('div');\n",
              "          docLink.innerHTML = docLinkHtml;\n",
              "          element.appendChild(docLink);\n",
              "        }\n",
              "      </script>\n",
              "    </div>\n",
              "  </div>\n",
              "  "
            ]
          },
          "metadata": {},
          "execution_count": 58
        }
      ]
    },
    {
      "cell_type": "markdown",
      "source": [
        "Karena di pertanyaan terdapat 'paling banyak' makan saya menampilkan 1 row yang paling tertinggi kasusnya"
      ],
      "metadata": {
        "id": "JPORT3_3LQo8"
      }
    },
    {
      "cell_type": "markdown",
      "source": [
        "Saya memilih kolom primary_type sebagai total_case karena pada kolom tersebut terdapat 0 missing value sehingga, total kasus yang didapat tidak berkurang karena adanya nilai yang kosong"
      ],
      "metadata": {
        "id": "TmZt8ibiLZgJ"
      }
    },
    {
      "cell_type": "markdown",
      "source": [
        "#### 7. Berapa lama rata-rata waktu (dalam hari) kasus tindak kejahatan 'theft' terselesaikan sejak kasus tersebut terangkat selama tahun 2016? (Hint: Hitung selisih hari dari timestamp hingga clearance date)"
      ],
      "metadata": {
        "id": "MCPF-NxICXNK"
      }
    },
    {
      "cell_type": "markdown",
      "source": [
        "```\n",
        "SELECT \n",
        "  ROUND(AVG(TIMESTAMP_DIFF(clearance_date, timestamp, DAY))) AS rata_rata_hari \n",
        "FROM `bigquery-public-data.austin_crime.crime` \n",
        "WHERE year = 2016 AND primary_type = 'Theft' AND (clearance_status = 'Cleared by Exception' OR clearance_status = 'Cleared by Arrest')\n",
        "```"
      ],
      "metadata": {
        "id": "BwoliNWWTxbz"
      }
    },
    {
      "cell_type": "code",
      "source": [
        "soal_7 = pd.read_csv('P0LC3_M_Fahrur_Rozi_BB_7.csv')\n",
        "soal_7"
      ],
      "metadata": {
        "colab": {
          "base_uri": "https://localhost:8080/",
          "height": 81
        },
        "id": "SpF46X3GCYWy",
        "outputId": "2c05b5f6-d715-407d-c0bf-617384e562ba"
      },
      "execution_count": 60,
      "outputs": [
        {
          "output_type": "execute_result",
          "data": {
            "text/plain": [
              "   rata_rata_hari\n",
              "0            14.0"
            ],
            "text/html": [
              "\n",
              "  <div id=\"df-2e6da593-d51a-48de-9ff9-cd3e7c06f393\">\n",
              "    <div class=\"colab-df-container\">\n",
              "      <div>\n",
              "<style scoped>\n",
              "    .dataframe tbody tr th:only-of-type {\n",
              "        vertical-align: middle;\n",
              "    }\n",
              "\n",
              "    .dataframe tbody tr th {\n",
              "        vertical-align: top;\n",
              "    }\n",
              "\n",
              "    .dataframe thead th {\n",
              "        text-align: right;\n",
              "    }\n",
              "</style>\n",
              "<table border=\"1\" class=\"dataframe\">\n",
              "  <thead>\n",
              "    <tr style=\"text-align: right;\">\n",
              "      <th></th>\n",
              "      <th>rata_rata_hari</th>\n",
              "    </tr>\n",
              "  </thead>\n",
              "  <tbody>\n",
              "    <tr>\n",
              "      <th>0</th>\n",
              "      <td>14.0</td>\n",
              "    </tr>\n",
              "  </tbody>\n",
              "</table>\n",
              "</div>\n",
              "      <button class=\"colab-df-convert\" onclick=\"convertToInteractive('df-2e6da593-d51a-48de-9ff9-cd3e7c06f393')\"\n",
              "              title=\"Convert this dataframe to an interactive table.\"\n",
              "              style=\"display:none;\">\n",
              "        \n",
              "  <svg xmlns=\"http://www.w3.org/2000/svg\" height=\"24px\"viewBox=\"0 0 24 24\"\n",
              "       width=\"24px\">\n",
              "    <path d=\"M0 0h24v24H0V0z\" fill=\"none\"/>\n",
              "    <path d=\"M18.56 5.44l.94 2.06.94-2.06 2.06-.94-2.06-.94-.94-2.06-.94 2.06-2.06.94zm-11 1L8.5 8.5l.94-2.06 2.06-.94-2.06-.94L8.5 2.5l-.94 2.06-2.06.94zm10 10l.94 2.06.94-2.06 2.06-.94-2.06-.94-.94-2.06-.94 2.06-2.06.94z\"/><path d=\"M17.41 7.96l-1.37-1.37c-.4-.4-.92-.59-1.43-.59-.52 0-1.04.2-1.43.59L10.3 9.45l-7.72 7.72c-.78.78-.78 2.05 0 2.83L4 21.41c.39.39.9.59 1.41.59.51 0 1.02-.2 1.41-.59l7.78-7.78 2.81-2.81c.8-.78.8-2.07 0-2.86zM5.41 20L4 18.59l7.72-7.72 1.47 1.35L5.41 20z\"/>\n",
              "  </svg>\n",
              "      </button>\n",
              "      \n",
              "  <style>\n",
              "    .colab-df-container {\n",
              "      display:flex;\n",
              "      flex-wrap:wrap;\n",
              "      gap: 12px;\n",
              "    }\n",
              "\n",
              "    .colab-df-convert {\n",
              "      background-color: #E8F0FE;\n",
              "      border: none;\n",
              "      border-radius: 50%;\n",
              "      cursor: pointer;\n",
              "      display: none;\n",
              "      fill: #1967D2;\n",
              "      height: 32px;\n",
              "      padding: 0 0 0 0;\n",
              "      width: 32px;\n",
              "    }\n",
              "\n",
              "    .colab-df-convert:hover {\n",
              "      background-color: #E2EBFA;\n",
              "      box-shadow: 0px 1px 2px rgba(60, 64, 67, 0.3), 0px 1px 3px 1px rgba(60, 64, 67, 0.15);\n",
              "      fill: #174EA6;\n",
              "    }\n",
              "\n",
              "    [theme=dark] .colab-df-convert {\n",
              "      background-color: #3B4455;\n",
              "      fill: #D2E3FC;\n",
              "    }\n",
              "\n",
              "    [theme=dark] .colab-df-convert:hover {\n",
              "      background-color: #434B5C;\n",
              "      box-shadow: 0px 1px 3px 1px rgba(0, 0, 0, 0.15);\n",
              "      filter: drop-shadow(0px 1px 2px rgba(0, 0, 0, 0.3));\n",
              "      fill: #FFFFFF;\n",
              "    }\n",
              "  </style>\n",
              "\n",
              "      <script>\n",
              "        const buttonEl =\n",
              "          document.querySelector('#df-2e6da593-d51a-48de-9ff9-cd3e7c06f393 button.colab-df-convert');\n",
              "        buttonEl.style.display =\n",
              "          google.colab.kernel.accessAllowed ? 'block' : 'none';\n",
              "\n",
              "        async function convertToInteractive(key) {\n",
              "          const element = document.querySelector('#df-2e6da593-d51a-48de-9ff9-cd3e7c06f393');\n",
              "          const dataTable =\n",
              "            await google.colab.kernel.invokeFunction('convertToInteractive',\n",
              "                                                     [key], {});\n",
              "          if (!dataTable) return;\n",
              "\n",
              "          const docLinkHtml = 'Like what you see? Visit the ' +\n",
              "            '<a target=\"_blank\" href=https://colab.research.google.com/notebooks/data_table.ipynb>data table notebook</a>'\n",
              "            + ' to learn more about interactive tables.';\n",
              "          element.innerHTML = '';\n",
              "          dataTable['output_type'] = 'display_data';\n",
              "          await google.colab.output.renderOutput(dataTable, element);\n",
              "          const docLink = document.createElement('div');\n",
              "          docLink.innerHTML = docLinkHtml;\n",
              "          element.appendChild(docLink);\n",
              "        }\n",
              "      </script>\n",
              "    </div>\n",
              "  </div>\n",
              "  "
            ]
          },
          "metadata": {},
          "execution_count": 60
        }
      ]
    },
    {
      "cell_type": "markdown",
      "source": [
        "Pada kolom clearance_status terdapat 4 unique value yaitu Not cleared, Cleared by Exception, None, Cleared by Arrest.\n",
        "Karena ditanya kasus yang 'terselesaikan' maka saya memilih 'Cleared by Exception' dan 'Cleared by Arrest'"
      ],
      "metadata": {
        "id": "9wvsP5O2LlEe"
      }
    },
    {
      "cell_type": "markdown",
      "source": [
        "Saya melakukan pembulatan dengan desimal 0 karena rata-rata hari tidak mungkin berkoma"
      ],
      "metadata": {
        "id": "oKk5f7AtMGkf"
      }
    },
    {
      "cell_type": "markdown",
      "metadata": {
        "id": "XE2hOubZ7bhY"
      },
      "source": [
        "## Conclusions, Assumptions, Overall Analysis"
      ]
    },
    {
      "cell_type": "markdown",
      "source": [
        "Dari penjabaran yang sudah kamu bahas (pertanyaan 2-7), apa kesimpulan yang saya dapatkan:\n",
        "\n",
        "PADA TAHUN 2016\n",
        "1. Ternyata jenis kasus kejahatan pada Austin Smart City adalah Rape, Theft, Robbery, Agg Assault, Burglary, Auto Theft, Murder.\n",
        "2. Ternyata kasus tindak kejahatan berdasarkan status yang paling banyak adalah kasus yang tidak terselesaikan dengan 29715 total kasus. \n",
        "3. Jenis kasus kejahatan yang belum terselesaikan paling banyak terdapat pada kasus Theft dengan 21894 total kasus, di susul dengan Burglary dengan 4440 total kasus dan Auto Theft\tsebanyak 1540 total kasus.\n",
        "4. Kasus pencurian / Theft terbanyak terjadi pada bulan\t4\tdengan total kasus 2282 \n",
        "5. kasus pencurian / theft paling banyak terjadi di district D\n",
        "6. Rata-rata waktu kasus tindak kejahatan 'theft' terselesaikan sejak kasus tersebut terangkat adalah 14 hari."
      ],
      "metadata": {
        "id": "NlWxeVeSQD4K"
      }
    }
  ],
  "metadata": {
    "kernelspec": {
      "display_name": "Python 3.10.4 64-bit",
      "language": "python",
      "name": "python3"
    },
    "language_info": {
      "codemirror_mode": {
        "name": "ipython",
        "version": 3
      },
      "file_extension": ".py",
      "mimetype": "text/x-python",
      "name": "python",
      "nbconvert_exporter": "python",
      "pygments_lexer": "ipython3",
      "version": "3.10.4"
    },
    "orig_nbformat": 4,
    "vscode": {
      "interpreter": {
        "hash": "27f6fea6f47ae512550f0b8facdbd035a93e1dd89633f7bf2dd00a2502c71d0d"
      }
    },
    "colab": {
      "provenance": [],
      "collapsed_sections": [
        "J4fq0v6gIDIz",
        "1JcnRqSrIKvi",
        "7d19KMjxIauv"
      ]
    }
  },
  "nbformat": 4,
  "nbformat_minor": 0
}